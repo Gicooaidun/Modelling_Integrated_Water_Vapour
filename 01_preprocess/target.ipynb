{
 "cells": [
  {
   "cell_type": "markdown",
   "metadata": {},
   "source": [
    "The code will generate target iwv in the same file folder where the code is."
   ]
  },
  {
   "cell_type": "code",
   "execution_count": 1,
   "metadata": {},
   "outputs": [],
   "source": [
    "# Packages\n",
    "from pathlib import Path\n",
    "import pandas as pd\n",
    "import xarray as xr\n",
    "import numpy as np\n",
    "import glob\n",
    "import os"
   ]
  },
  {
   "cell_type": "code",
   "execution_count": 2,
   "metadata": {},
   "outputs": [],
   "source": [
    "# read GNSS station list\n",
    "file_igs = Path('../data/GNSS_station_list_IGS/igs_stations_subset.csv')\n",
    "df_stations = pd.read_csv(file_igs, header=0)\n",
    "# read IWV data\n",
    "file_iwv = Path('../data/IWV_Yuan/ABMF.h5')\n",
    "df_IWV = pd.read_hdf(file_iwv, header=0)\n",
    "# read gridded ERA5 data\n",
    "file = Path('../data/ERA5/q/2020/ERA5_hourly_data_on_single_levels_specific_humidity_1000.nc')\n",
    "ds = xr.open_dataset(file)"
   ]
  },
  {
   "cell_type": "code",
   "execution_count": 3,
   "metadata": {},
   "outputs": [],
   "source": [
    "iwv_path='../data/IWV_Yuan/'\n",
    "iwv=pd.DataFrame({})"
   ]
  },
  {
   "cell_type": "code",
   "execution_count": 4,
   "metadata": {},
   "outputs": [],
   "source": [
    "for station in df_stations['station']:\n",
    "    df_station_match=pd.read_hdf(os.path.join(iwv_path,f'{station}.h5'), header=0)\n",
    "    num_copies=len(df_station_match)\n",
    "    station_iwv=df_station_match.loc[:,['GPSIWV']]\n",
    "    # station_iwv['time']=df_station_match.index\n",
    "    station_iwv['station']=station\n",
    "    station_iwv_reset=station_iwv.reset_index()\n",
    "    iwv=pd.concat([iwv,station_iwv_reset],axis=0,ignore_index=True)\n",
    "iwv.to_csv('iwv.csv',index=False)"
   ]
  },
  {
   "cell_type": "markdown",
   "metadata": {},
   "source": []
  },
  {
   "cell_type": "code",
   "execution_count": null,
   "metadata": {},
   "outputs": [],
   "source": []
  }
 ],
 "metadata": {
  "kernelspec": {
   "display_name": "Python 3",
   "language": "python",
   "name": "python3"
  },
  "language_info": {
   "codemirror_mode": {
    "name": "ipython",
    "version": 3
   },
   "file_extension": ".py",
   "mimetype": "text/x-python",
   "name": "python",
   "nbconvert_exporter": "python",
   "pygments_lexer": "ipython3",
   "version": "3.8.6"
  },
  "orig_nbformat": 4
 },
 "nbformat": 4,
 "nbformat_minor": 2
}
