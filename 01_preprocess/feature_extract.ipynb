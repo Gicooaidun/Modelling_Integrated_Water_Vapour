{
 "cells": [
  {
   "cell_type": "code",
   "execution_count": 10,
   "metadata": {},
   "outputs": [],
   "source": [
    "# Packages\n",
    "from pathlib import Path\n",
    "import pandas as pd\n",
    "import xarray as xr\n",
    "import matplotlib.pyplot as plt\n",
    "import numpy as np\n",
    "import glob\n",
    "import os\n",
    "import re"
   ]
  },
  {
   "cell_type": "code",
   "execution_count": 11,
   "metadata": {},
   "outputs": [],
   "source": [
    "root = Path('TS')                       # folder where files are stored\n",
    "features = []                           # list which will store all features\n",
    "for f in root.glob('*.h5'):             # iterate over all files\n",
    "    df = pd.read_hdf(f,'df')            # read data\n",
    "    df.set_index([\"station\",\"time\"], drop=True, inplace=True) # set index so that pandas can easily merge files\n",
    "    feature = df[\"feature\"]             # extract only the feature column\n",
    "    feature.name=re.sub(r'(ERA5_hourly_data_on_pressure_levels_|ERA5_hourly_data_on_single_levels_specific_|ERA5_hourly_data_on_single_levels_)','',f.stem)\n",
    "    # feature.name = f.stem.replace('ERA5_hourly_data_on_pressure_levels_','')\n",
    "    # feature.name = f.stem.replace('ERA5_hourly_data_on_single_levels_specific_','') # rename feature to shorten names\n",
    "    # feature.name = f.stem.replace('ERA5_hourly_data_on_single_levels_','')\n",
    "    features.append(feature)            # store all features in a list\n",
    "Xy = pd.concat(features, axis=1)        # concatenate all features into one matrix\n",
    "Xy = Xy.dropna(how=\"any\", axis=0)       # drop some NAN stations \n"
   ]
  },
  {
   "cell_type": "code",
   "execution_count": 12,
   "metadata": {},
   "outputs": [],
   "source": [
    "Xy['doy']=Xy.index.get_level_values(1).dayofyear\n",
    "Xy['hod']=Xy.index.get_level_values(1).hour\n",
    "Xy['t']=[dt.timestamp() for dt in Xy.index.get_level_values(1).to_pydatetime()]\n",
    "Xy['sin_lon']=np.sin(Xy['Longitude']*np.pi/180)\n",
    "Xy['cos_lon']=np.cos(Xy['Longitude']*np.pi/180)\n",
    "Xy['sin_doy']=np.sin(Xy['doy']*np.pi/183)\n",
    "Xy['cos_doy']=np.cos(Xy['doy']*np.pi/183)\n",
    "Xy['sin_hod']=np.sin(Xy['hod']*np.pi/12)\n",
    "Xy['cos_hod']=np.cos(Xy['hod']*np.pi/12)"
   ]
  },
  {
   "cell_type": "code",
   "execution_count": 13,
   "metadata": {},
   "outputs": [],
   "source": [
    "Xy=Xy.drop(['Longitude','doy','hod'],axis=1)"
   ]
  },
  {
   "cell_type": "code",
   "execution_count": 14,
   "metadata": {},
   "outputs": [],
   "source": [
    "Xy.to_hdf('../fourth_week/features.h5','w')"
   ]
  },
  {
   "cell_type": "code",
   "execution_count": 9,
   "metadata": {},
   "outputs": [],
   "source": [
    "m=np.cos(Xy['Longitude']*np.pi/180)"
   ]
  }
 ],
 "metadata": {
  "kernelspec": {
   "display_name": "Python 3",
   "language": "python",
   "name": "python3"
  },
  "language_info": {
   "codemirror_mode": {
    "name": "ipython",
    "version": 3
   },
   "file_extension": ".py",
   "mimetype": "text/x-python",
   "name": "python",
   "nbconvert_exporter": "python",
   "pygments_lexer": "ipython3",
   "version": "3.8.6"
  }
 },
 "nbformat": 4,
 "nbformat_minor": 2
}
